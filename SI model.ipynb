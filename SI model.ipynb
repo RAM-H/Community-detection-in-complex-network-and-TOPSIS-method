{
 "cells": [
  {
   "cell_type": "markdown",
   "id": "9192d14d",
   "metadata": {},
   "source": [
    "# SI Model"
   ]
  },
  {
   "cell_type": "code",
   "execution_count": 7,
   "id": "a3aa7ce1",
   "metadata": {},
   "outputs": [],
   "source": [
    "import pandas as pd \n",
    "import networkx as nx\n",
    "import matplotlib.pyplot as plt\n",
    "import numpy as np\n",
    "import ndlib.models.ModelConfig as mc\n",
    "import ndlib.models.epidemics as ep"
   ]
  },
  {
   "cell_type": "code",
   "execution_count": 3,
   "id": "1ac94c6d",
   "metadata": {},
   "outputs": [],
   "source": [
    "df=pd.read_csv('TOPSIS_result.csv')"
   ]
  },
  {
   "cell_type": "code",
   "execution_count": 4,
   "id": "56d7419a",
   "metadata": {},
   "outputs": [],
   "source": [
    "df['RankingEC'] = df['EC'].rank(ascending=False)\n",
    "df['RankingBC'] = df['BC'].rank(ascending=False)\n",
    "df['RankingDC'] = df['DC'].rank(ascending=False)\n",
    "df['RankingCC'] = df['CC'].rank(ascending=False)\n"
   ]
  },
  {
   "cell_type": "code",
   "execution_count": 5,
   "id": "3768fadf",
   "metadata": {},
   "outputs": [],
   "source": [
    "top10=pd.DataFrame()\n",
    "top10['BC']=df[df['RankingBC'].isin(range(1,11))].node.values\n",
    "top10['CC']=df[df['RankingCC'].isin(range(1,11))].node.values\n",
    "top10['EC']=df[df['RankingEC'].isin(range(1,11))].node.values\n",
    "top10['DC']=df[df['RankingDC'].isin(range(1,11))].node.values\n",
    "top10['TOPSIS']=df[df.index.isin(range(10))].node.values"
   ]
  },
  {
   "cell_type": "code",
   "execution_count": 6,
   "id": "47d63049",
   "metadata": {},
   "outputs": [
    {
     "data": {
      "text/html": [
       "<div>\n",
       "<style scoped>\n",
       "    .dataframe tbody tr th:only-of-type {\n",
       "        vertical-align: middle;\n",
       "    }\n",
       "\n",
       "    .dataframe tbody tr th {\n",
       "        vertical-align: top;\n",
       "    }\n",
       "\n",
       "    .dataframe thead th {\n",
       "        text-align: right;\n",
       "    }\n",
       "</style>\n",
       "<table border=\"1\" class=\"dataframe\">\n",
       "  <thead>\n",
       "    <tr style=\"text-align: right;\">\n",
       "      <th></th>\n",
       "      <th>BC</th>\n",
       "      <th>CC</th>\n",
       "      <th>EC</th>\n",
       "      <th>DC</th>\n",
       "      <th>TOPSIS</th>\n",
       "    </tr>\n",
       "  </thead>\n",
       "  <tbody>\n",
       "    <tr>\n",
       "      <th>0</th>\n",
       "      <td>107</td>\n",
       "      <td>107</td>\n",
       "      <td>1912</td>\n",
       "      <td>107</td>\n",
       "      <td>107</td>\n",
       "    </tr>\n",
       "    <tr>\n",
       "      <th>1</th>\n",
       "      <td>1684</td>\n",
       "      <td>1684</td>\n",
       "      <td>2266</td>\n",
       "      <td>1684</td>\n",
       "      <td>1684</td>\n",
       "    </tr>\n",
       "    <tr>\n",
       "      <th>2</th>\n",
       "      <td>1912</td>\n",
       "      <td>58</td>\n",
       "      <td>2233</td>\n",
       "      <td>1912</td>\n",
       "      <td>1912</td>\n",
       "    </tr>\n",
       "    <tr>\n",
       "      <th>3</th>\n",
       "      <td>3437</td>\n",
       "      <td>428</td>\n",
       "      <td>2206</td>\n",
       "      <td>3437</td>\n",
       "      <td>3437</td>\n",
       "    </tr>\n",
       "    <tr>\n",
       "      <th>4</th>\n",
       "      <td>0</td>\n",
       "      <td>563</td>\n",
       "      <td>2142</td>\n",
       "      <td>0</td>\n",
       "      <td>0</td>\n",
       "    </tr>\n",
       "    <tr>\n",
       "      <th>5</th>\n",
       "      <td>1085</td>\n",
       "      <td>414</td>\n",
       "      <td>2218</td>\n",
       "      <td>2347</td>\n",
       "      <td>1085</td>\n",
       "    </tr>\n",
       "    <tr>\n",
       "      <th>6</th>\n",
       "      <td>698</td>\n",
       "      <td>348</td>\n",
       "      <td>2078</td>\n",
       "      <td>2543</td>\n",
       "      <td>698</td>\n",
       "    </tr>\n",
       "    <tr>\n",
       "      <th>7</th>\n",
       "      <td>567</td>\n",
       "      <td>483</td>\n",
       "      <td>2464</td>\n",
       "      <td>1888</td>\n",
       "      <td>567</td>\n",
       "    </tr>\n",
       "    <tr>\n",
       "      <th>8</th>\n",
       "      <td>58</td>\n",
       "      <td>376</td>\n",
       "      <td>2123</td>\n",
       "      <td>1800</td>\n",
       "      <td>58</td>\n",
       "    </tr>\n",
       "    <tr>\n",
       "      <th>9</th>\n",
       "      <td>428</td>\n",
       "      <td>171</td>\n",
       "      <td>1993</td>\n",
       "      <td>1663</td>\n",
       "      <td>428</td>\n",
       "    </tr>\n",
       "  </tbody>\n",
       "</table>\n",
       "</div>"
      ],
      "text/plain": [
       "     BC    CC    EC    DC  TOPSIS\n",
       "0   107   107  1912   107     107\n",
       "1  1684  1684  2266  1684    1684\n",
       "2  1912    58  2233  1912    1912\n",
       "3  3437   428  2206  3437    3437\n",
       "4     0   563  2142     0       0\n",
       "5  1085   414  2218  2347    1085\n",
       "6   698   348  2078  2543     698\n",
       "7   567   483  2464  1888     567\n",
       "8    58   376  2123  1800      58\n",
       "9   428   171  1993  1663     428"
      ]
     },
     "execution_count": 6,
     "metadata": {},
     "output_type": "execute_result"
    }
   ],
   "source": [
    "top10"
   ]
  },
  {
   "cell_type": "markdown",
   "id": "37a6a635",
   "metadata": {},
   "source": [
    "si_model(measure) (measure='DC' or 'CC' .....) returns a list of iterations and infected and suceptible nodes "
   ]
  },
  {
   "cell_type": "code",
   "execution_count": 42,
   "id": "b9c70bb9",
   "metadata": {},
   "outputs": [],
   "source": [
    "def si_model(measure):\n",
    "    top=set(top10[measure].values.tolist())\n",
    "    model = ep.SIModel(G1)\n",
    "    # Model Configuration\n",
    "    cfg = mc.Configuration()\n",
    "    cfg.add_model_parameter('beta', 1)#cfg.add_model_parameter('beta', 0.3)\n",
    "    cfg.add_model_initial_configuration(\"Infected\", top)\n",
    "    model.set_initial_status(cfg)\n",
    "    iterations = model.iteration_bunch(100)\n",
    "    S=[]\n",
    "    I=[]\n",
    "    it=[]\n",
    "    for t in iterations:\n",
    "        S.append(t['node_count'][0])\n",
    "        I.append(t['node_count'][1])\n",
    "        it.append(t['iteration'])\n",
    "        if t['node_count'][1]==4039:\n",
    "            break\n",
    "    row=[it,I,S]\n",
    "    return(row)"
   ]
  },
  {
   "cell_type": "markdown",
   "id": "bc81fc18",
   "metadata": {},
   "source": [
    "Execute the SI model 1000 times on top 10 influencial nodes to extract for each measure and topsis ,DC,CC,BC,EC contains the results of the fifties executions "
   ]
  },
  {
   "cell_type": "code",
   "execution_count": 43,
   "id": "2e2236a8",
   "metadata": {},
   "outputs": [],
   "source": [
    "DC=[]\n",
    "CC=[]\n",
    "BC=[]\n",
    "EC=[]\n",
    "TOPSIS=[]\n",
    "#for i in range(1000):\n",
    "DC.append(si_model('DC'))\n",
    "CC.append(si_model('CC'))\n",
    "BC.append(si_model('BC'))\n",
    "EC.append(si_model('EC'))\n",
    "TOPSIS.append(si_model('TOPSIS'))"
   ]
  },
  {
   "cell_type": "markdown",
   "id": "5e87e34c",
   "metadata": {},
   "source": [
    "Std_mean(lis) takes as argumesnt the fifty execution results to return a dictionary that specifies for one iteration what are the values of infected nodes in each execution"
   ]
  },
  {
   "cell_type": "code",
   "execution_count": 44,
   "id": "e5d4d002",
   "metadata": {},
   "outputs": [],
   "source": [
    "def Std_mean(lis):\n",
    "    dc={}\n",
    "    for i in range(1):#range(1000)\n",
    "        for j in range(len(lis[i][0])):\n",
    "            dc[lis[i][0][j]]=[]\n",
    "\n",
    "    for i in range(1):#range(1000)\n",
    "        for j in range(len(lis[i][0])):\n",
    "            dc[lis[i][0][j]].append(lis[i][1][j])\n",
    "    return dc"
   ]
  },
  {
   "cell_type": "markdown",
   "id": "bfd85083",
   "metadata": {},
   "source": [
    "# #calculate the mean and standerd deviation of infected nodes per iteration for each measure"
   ]
  },
  {
   "cell_type": "code",
   "execution_count": 45,
   "id": "3bde529c",
   "metadata": {},
   "outputs": [],
   "source": [
    "stdsDC=[]\n",
    "meansDC=[]\n",
    "dc=Std_mean(DC)\n",
    "for i in dc:\n",
    "    stdsDC.append(np.std(dc[i]))\n",
    "    meansDC.append(np.mean(dc[i]))"
   ]
  },
  {
   "cell_type": "code",
   "execution_count": 46,
   "id": "ef694418",
   "metadata": {},
   "outputs": [
    {
     "data": {
      "text/plain": [
       "{0: [10], 1: [3463], 2: [3838], 3: [3984], 4: [4039]}"
      ]
     },
     "execution_count": 46,
     "metadata": {},
     "output_type": "execute_result"
    }
   ],
   "source": [
    "dc"
   ]
  },
  {
   "cell_type": "code",
   "execution_count": 36,
   "id": "51362612",
   "metadata": {},
   "outputs": [
    {
     "data": {
      "text/plain": [
       "[0.0,\n",
       " 25.23965134466005,\n",
       " 55.440057720027674,\n",
       " 56.19252619343608,\n",
       " 65.79179280123014,\n",
       " 67.71115122341371,\n",
       " 63.663490322161884,\n",
       " 46.20562736290895,\n",
       " 14.347125147568763,\n",
       " 4.445222154178573,\n",
       " 1.16619037896906,\n",
       " 0.39999999999999997,\n",
       " 0.8944271909999159,\n",
       " 0.9428090415820634,\n",
       " 0.0,\n",
       " 0.0,\n",
       " 0.0]"
      ]
     },
     "execution_count": 36,
     "metadata": {},
     "output_type": "execute_result"
    }
   ],
   "source": [
    "stdsDC"
   ]
  },
  {
   "cell_type": "code",
   "execution_count": 47,
   "id": "e716b21a",
   "metadata": {},
   "outputs": [],
   "source": [
    "stdsCC=[]\n",
    "meansCC=[]\n",
    "d=Std_mean(CC)\n",
    "for i in d:\n",
    "    stdsCC.append(np.std(d[i]))\n",
    "    meansCC.append(np.mean(d[i]))"
   ]
  },
  {
   "cell_type": "code",
   "execution_count": 48,
   "id": "c23eb503",
   "metadata": {},
   "outputs": [],
   "source": [
    "stdsEC=[]\n",
    "meansEC=[]\n",
    "d=Std_mean(EC)\n",
    "for i in d:\n",
    "    stdsEC.append(np.std(d[i]))\n",
    "    meansEC.append(np.mean(d[i]))"
   ]
  },
  {
   "cell_type": "code",
   "execution_count": 49,
   "id": "031a96a8",
   "metadata": {},
   "outputs": [],
   "source": [
    "stdsBC=[]\n",
    "meansBC=[]\n",
    "d=Std_mean(BC)\n",
    "for i in d:\n",
    "    stdsBC.append(np.std(d[i]))\n",
    "    meansBC.append(np.mean(d[i]))"
   ]
  },
  {
   "cell_type": "code",
   "execution_count": 50,
   "id": "a7e9fb5d",
   "metadata": {},
   "outputs": [],
   "source": [
    "stdsTOPSIS=[]\n",
    "meansTOPSIS=[]\n",
    "d=Std_mean(TOPSIS)\n",
    "for i in d:\n",
    "    stdsTOPSIS.append(np.std(d[i]))\n",
    "    meansTOPSIS.append(np.mean(d[i]))"
   ]
  },
  {
   "cell_type": "markdown",
   "id": "03153ce7",
   "metadata": {},
   "source": [
    "note : the standard deviation and the mean are used in this script because we had to execute 1000 times with beta=0.3 but with beta=1 we dont need to calculate the mean we can plot the results directly "
   ]
  },
  {
   "cell_type": "code",
   "execution_count": 51,
   "id": "1a92366c",
   "metadata": {},
   "outputs": [],
   "source": [
    "dc=Std_mean(DC)\n",
    "cc=Std_mean(CC)\n",
    "ec=Std_mean(EC)\n",
    "bc=Std_mean(BC)\n",
    "topsis=Std_mean(TOPSIS)"
   ]
  },
  {
   "cell_type": "code",
   "execution_count": 54,
   "id": "9f1019e7",
   "metadata": {},
   "outputs": [
    {
     "data": {
      "image/png": "[encoded data removed]",
      "text/plain": [
       "<Figure size 1080x648 with 4 Axes>"
      ]
     },
     "metadata": {
      "needs_background": "light"
     },
     "output_type": "display_data"
    }
   ],
   "source": [
    "fig, ax = plt.subplots(2, 2,figsize=(15, 9))\n",
    "ax[0, 0].set_title('topsis VS degree centrality')\n",
    "ax[0, 0].plot(topsis.keys(), meansTOPSIS, label='Topsis')\n",
    "ax[0, 0].errorbar(topsis.keys(), meansTOPSIS, yerr=stdsTOPSIS, fmt ='.k')\n",
    "ax[0, 0].plot(dc.keys() , meansDC, label='DC')\n",
    "ax[0, 0].errorbar(dc.keys() , meansDC, yerr=stdsDC, fmt ='.k')\n",
    "ax[0, 0].legend()\n",
    "\n",
    "ax[1, 0].set_title('topsis VS closeness centrality')\n",
    "ax[1, 0].plot(topsis.keys(), meansTOPSIS, label='Topsis')\n",
    "ax[1, 0].errorbar(topsis.keys(), meansTOPSIS, yerr=stdsTOPSIS, fmt ='.k')\n",
    "ax[1, 0].plot(cc.keys() , meansCC, label='CC')\n",
    "ax[1, 0].errorbar(cc.keys() , meansCC, yerr=stdsCC, fmt ='.k')\n",
    "\n",
    "ax[1, 0].legend()\n",
    "\n",
    "ax[0, 1].set_title('topsis vs eigenvector centrality')\n",
    "ax[0, 1].plot(ec.keys() , meansEC, label='EC')\n",
    "ax[0, 1].errorbar(ec.keys() , meansEC, yerr=stdsEC, fmt ='.k')\n",
    "ax[0, 1].plot(topsis.keys(), meansTOPSIS, label='Topsis')\n",
    "ax[0, 1].errorbar(topsis.keys(), meansTOPSIS, yerr=stdsTOPSIS, fmt ='.k')\n",
    "ax[0, 1].legend()\n",
    "\n",
    "ax[1, 1].set_title('topsis vs betweeness centrality')\n",
    "ax[1, 1].plot(topsis.keys(), meansTOPSIS, label='BC')\n",
    "ax[1, 1].errorbar(topsis.keys(), meansTOPSIS, yerr=stdsTOPSIS, fmt ='.k')\n",
    "ax[1, 1].plot(bc.keys() , meansBC, label='Topsis')\n",
    "ax[1, 1].errorbar(bc.keys() , meansBC, yerr=stdsBC, fmt ='.k')\n",
    "ax[1, 1].legend()\n",
    "\n",
    "\n",
    "fig.suptitle('Comparaison of centrality measures with TOPSIS method')\n",
    "plt.show()"
   ]
  }
 ],
 "metadata": {
  "kernelspec": {
   "display_name": "Python 3 (ipykernel)",
   "language": "python",
   "name": "python3"
  },
  "language_info": {
   "codemirror_mode": {
    "name": "ipython",
    "version": 3
   },
   "file_extension": ".py",
   "mimetype": "text/x-python",
   "name": "python",
   "nbconvert_exporter": "python",
   "pygments_lexer": "ipython3",
   "version": "3.10.0"
  }
 },
 "nbformat": 4,
 "nbformat_minor": 5
}
